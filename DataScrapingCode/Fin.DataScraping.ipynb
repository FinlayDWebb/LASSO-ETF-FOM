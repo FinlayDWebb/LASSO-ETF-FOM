{
 "cells": [
  {
   "cell_type": "code",
   "execution_count": 1,
   "metadata": {},
   "outputs": [],
   "source": [
    "import yfinance as yf\n",
    "import pandas as pd\n",
    "from datetime import datetime, timedelta\n",
    "\n",
    "# Function to calculate RSI\n",
    "def calculate_rsi(data, window=14):\n",
    "    delta = data['Close'].diff(1)\n",
    "    gain = delta.where(delta > 0, 0)\n",
    "    loss = -delta.where(delta < 0, 0)\n",
    "    \n",
    "    avg_gain = gain.rolling(window=window, min_periods=1).mean()\n",
    "    avg_loss = loss.rolling(window=window, min_periods=1).mean()\n",
    "    \n",
    "    rs = avg_gain / avg_loss\n",
    "    rsi = 100 - (100 / (1 + rs))\n",
    "    \n",
    "    return rsi\n",
    "\n",
    "# Function to calculate MACD\n",
    "def calculate_macd(data, short_window=12, long_window=26, signal_window=9):\n",
    "    short_ema = data['Close'].ewm(span=short_window, adjust=False).mean()\n",
    "    long_ema = data['Close'].ewm(span=long_window, adjust=False).mean()\n",
    "    \n",
    "    macd = short_ema - long_ema\n",
    "    signal_line = macd.ewm(span=signal_window, adjust=False).mean()\n",
    "    \n",
    "    return macd, signal_line\n",
    "\n",
    "def fetch_and_analyze_etf_data(ticker):\n",
    "    asset = yf.Ticker(ticker)\n",
    "    end_date = datetime.today().strftime('%Y-%m-%d')\n",
    "    start_date = (datetime.today() - timedelta(days=730)).strftime('%Y-%m-%d')\n",
    "    data = asset.history(start=start_date, end=end_date)\n",
    "    data.reset_index(inplace=True)\n",
    "    data['rsi'] = calculate_rsi(data)\n",
    "    data['macd'], data['signal_line'] = calculate_macd(data)\n",
    "    return data[['Date', 'Open', 'High', 'Low', 'Close', 'Volume', 'rsi', 'macd', 'signal_line']]\n",
    "\n",
    "etf_data = fetch_and_analyze_etf_data(\"EWJ\")\n",
    "etf_data.to_csv(\"etf_momentum_analysis.csv\", index=False)\n"
   ]
  },
  {
   "cell_type": "code",
   "execution_count": 2,
   "metadata": {},
   "outputs": [],
   "source": [
    "import yfinance as yf\n",
    "import pandas as pd\n",
    "from datetime import datetime, timedelta\n",
    "\n",
    "def fetch_index_data(tickers):\n",
    "    all_data = []\n",
    "    for ticker, name in tickers.items():\n",
    "        asset = yf.Ticker(ticker)\n",
    "        end_date = datetime.today().strftime('%Y-%m-%d')\n",
    "        start_date = (datetime.today() - timedelta(days=730)).strftime('%Y-%m-%d')\n",
    "        data = asset.history(start=start_date, end=end_date)\n",
    "        data.reset_index(inplace=True)\n",
    "        data['index_name'] = name\n",
    "        all_data.append(data)\n",
    "    return pd.concat(all_data, ignore_index=True)\n",
    "\n",
    "tickers = {\n",
    "    \"^N225\": \"Nikkei 225\",\n",
    "    \"^JPN\": \"Japan Index\"\n",
    "}\n",
    "\n",
    "index_data = fetch_index_data(tickers)\n",
    "index_data.to_csv(\"japan_index_prices.csv\", index=False)\n"
   ]
  }
 ],
 "metadata": {
  "kernelspec": {
   "display_name": "base",
   "language": "python",
   "name": "python3"
  },
  "language_info": {
   "codemirror_mode": {
    "name": "ipython",
    "version": 3
   },
   "file_extension": ".py",
   "mimetype": "text/x-python",
   "name": "python",
   "nbconvert_exporter": "python",
   "pygments_lexer": "ipython3",
   "version": "3.11.7"
  }
 },
 "nbformat": 4,
 "nbformat_minor": 2
}
