{
 "cells": [
  {
   "cell_type": "code",
   "execution_count": 2,
   "metadata": {},
   "outputs": [
    {
     "name": "stdout",
     "output_type": "stream",
     "text": [
      "Data exported to japanese_stocks_historical_prices.csv\n"
     ]
    }
   ],
   "source": [
    "import yfinance as yf\n",
    "import pandas as pd\n",
    "from datetime import datetime, timedelta\n",
    "\n",
    "# List of tickers\n",
    "tickers = ['7203.T', '8306.T', '6758.T', '6501.T', '6098.T', \n",
    "           '8316.T', '6861.T', '8766.T', '8035.T', '4063.T']\n",
    "\n",
    "# Company names mapping\n",
    "company_names = {\n",
    "    '7203.T': 'Toyota',\n",
    "    '8306.T': 'Mitsubishi UFJ Financial Group',\n",
    "    '6758.T': 'Sony',\n",
    "    '6501.T': 'Hitachi',\n",
    "    '6098.T': 'R Holdings',\n",
    "    '8316.T': 'Sumitomo Mitsui Financial Group',\n",
    "    '6861.T': 'Keyence',\n",
    "    '8766.T': 'Tokio Marine Holdings',\n",
    "    '8035.T': 'Tokyo Electron',\n",
    "    '4063.T': 'Shin-Etsu Chemical'\n",
    "}\n",
    "\n",
    "# Calculate start and end dates for exactly 2 years\n",
    "end_date = datetime.now()\n",
    "start_date = end_date - timedelta(days=365 * 2)\n",
    "\n",
    "# Prepare to store all historical data\n",
    "all_historical_data = []\n",
    "\n",
    "# Fetch historical data for each ticker\n",
    "for ticker in tickers:\n",
    "    # Fetch historical data for exactly 2 years\n",
    "    stock = yf.Ticker(ticker)\n",
    "    hist = stock.history(start=start_date, end=end_date)\n",
    "    \n",
    "    # Add company name and ticker to the dataframe\n",
    "    hist['Ticker'] = ticker\n",
    "    hist['Company'] = company_names.get(ticker, ticker)\n",
    "    \n",
    "    # Reset index to make Date a column\n",
    "    hist.reset_index(inplace=True)\n",
    "    \n",
    "    # Select only required columns\n",
    "    hist_subset = hist[['Date', 'Ticker', 'Company', 'Open', 'Close']]\n",
    "    \n",
    "    # Append to list of historical data\n",
    "    all_historical_data.append(hist_subset)\n",
    "\n",
    "# Combine all historical data\n",
    "final_df = pd.concat(all_historical_data, ignore_index=True)\n",
    "\n",
    "# Export to CSV\n",
    "final_df.to_csv('japanese_stocks_historical_prices.csv', index=False)\n",
    "\n",
    "print(\"Data exported to japanese_stocks_historical_prices.csv\")"
   ]
  },
  {
   "cell_type": "code",
   "execution_count": null,
   "metadata": {},
   "outputs": [],
   "source": [
    "#EWJ NAV\n",
    "\n",
    "EWJ = yf.Ticker(\"EWJ\")\n",
    "\n",
    "#Yahoo finance does NOT have a metric for NAV, can discuss 21/11/24 what we think."
   ]
  },
  {
   "cell_type": "code",
   "execution_count": 7,
   "metadata": {},
   "outputs": [
    {
     "name": "stderr",
     "output_type": "stream",
     "text": [
      "c:\\Users\\cammi\\AppData\\Local\\Programs\\Python\\Python312\\Lib\\site-packages\\yfinance\\scrapers\\history.py:231: FutureWarning: 'T' is deprecated and will be removed in a future version, please use 'min' instead.\n",
      "  quotes2 = quotes.resample('30T')\n"
     ]
    }
   ],
   "source": [
    "# Currency data \n",
    "\n",
    "currency = \"JPY=X\"\n",
    "\n",
    "exchange_rate = yf.Ticker(currency).history(period=\"60d\", interval=\"30m\")\n",
    "\n",
    "df2 = pd.DataFrame(exchange_rate)\n",
    "\n",
    "df2.to_csv('usdYen60d.csv', index=False)\n",
    "\n"
   ]
  }
 ],
 "metadata": {
  "kernelspec": {
   "display_name": "Python 3",
   "language": "python",
   "name": "python3"
  },
  "language_info": {
   "codemirror_mode": {
    "name": "ipython",
    "version": 3
   },
   "file_extension": ".py",
   "mimetype": "text/x-python",
   "name": "python",
   "nbconvert_exporter": "python",
   "pygments_lexer": "ipython3",
   "version": "3.12.2"
  }
 },
 "nbformat": 4,
 "nbformat_minor": 2
}
