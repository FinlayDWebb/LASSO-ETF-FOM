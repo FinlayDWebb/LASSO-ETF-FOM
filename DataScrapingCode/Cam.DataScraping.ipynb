{
 "cells": [
  {
   "cell_type": "code",
   "execution_count": 1,
   "metadata": {},
   "outputs": [],
   "source": [
    "#Library Importation\n",
    "\n",
    "from datetime import datetime\n",
    "import sys\n",
    "import pandas as pd\n",
    "import numpy as np\n",
    "import matplotlib.pyplot as plt\n",
    "from scipy.stats import norm\n",
    "from pandas_datareader import data as pdr\n",
    "import yfinance as yf\n",
    "\n",
    "yf.pdr_override()\n",
    "\n",
    "#EWJ - iShares MSCI Japan ETF - holdings\n",
    "\n",
    "toyota = yf.Ticker(\"7203.T\")\n",
    "mitsubishi = yf.Ticker(\"8306.T\")\n",
    "sony = yf.Ticker(\"6758.T\")\n",
    "hitachi = yf.Ticker(\"6501.T\")\n",
    "rholding = yf.Ticker(\"6098.T\")\n",
    "sumitomo = yf.Ticker(\"8316.T\")\n",
    "keyence = yf.Ticker(\"6861.T\")\n",
    "tmarine = yf.Ticker(\"8766.T\")\n",
    "telectron = yf.Ticker(\"8035.T\")\n",
    "shinetsu = yf.Ticker(\"4063.T\")\n",
    "\n",
    "\n",
    "tickers = ['7203.T', '8306.T', '6758.T', '6501.T', '6098.T', '8316.T', '6861.T', '8766.T', '8035.T', '4063.T', 'TSCO']\n",
    "\n",
    "data = []\n",
    "\n",
    "for ticker in tickers:\n",
    "    stock = yf.Ticker(ticker)\n",
    "\n",
    "    info = stock.info\n",
    "    hist = stock.history(period=\"6mo\")\n",
    "\n",
    "\n",
    "    stock_data = {\n",
    "        'Ticker': ticker,\n",
    "        'Name': info.get('shortName', 'N/A'),\n",
    "        'Sector': info.get('sector', 'N/A'),\n",
    "        'Industry': info.get('industry', 'N/A'),\n",
    "        'Market Cap': info.get('marketCap', 'N/A'),\n",
    "        'PE Ratio': info.get('trailingPE', 'N/A'),\n",
    "        'Dividend Yield': info.get('dividendYield', 'N/A'),\n",
    "        'Previous Close': hist['Close'].iloc[-1] if not hist.empty else 'N/A',\n",
    "        '52 Week High': info.get('fiftyTwoWeekHigh', 'N/A'),\n",
    "        '52 Week Low': info.get('fiftyTwoWeekLow', 'N/A')\n",
    "    }\n",
    "\n",
    "    data.append(stock_data)\n",
    "    \n",
    "df = pd.DataFrame(data)\n",
    "\n",
    "df.to_csv('topTen.csv', index=False)\n"
   ]
  },
  {
   "cell_type": "code",
   "execution_count": null,
   "metadata": {},
   "outputs": [],
   "source": [
    "#EWJ NAV\n",
    "\n",
    "EWJ = yf.Ticker(\"EWJ\")\n",
    "\n",
    "#Yahoo finance does NOT have a metric for NAV, can discuss 21/11/24 what we think."
   ]
  },
  {
   "cell_type": "code",
   "execution_count": 7,
   "metadata": {},
   "outputs": [
    {
     "name": "stderr",
     "output_type": "stream",
     "text": [
      "c:\\Users\\cammi\\AppData\\Local\\Programs\\Python\\Python312\\Lib\\site-packages\\yfinance\\scrapers\\history.py:231: FutureWarning: 'T' is deprecated and will be removed in a future version, please use 'min' instead.\n",
      "  quotes2 = quotes.resample('30T')\n"
     ]
    }
   ],
   "source": [
    "# Currency data \n",
    "\n",
    "currency = \"JPY=X\"\n",
    "\n",
    "exchange_rate = yf.Ticker(currency).history(period=\"60d\", interval=\"30m\")\n",
    "\n",
    "df2 = pd.DataFrame(exchange_rate)\n",
    "\n",
    "df2.to_csv('usdYen60d.csv', index=False)\n",
    "\n"
   ]
  }
 ],
 "metadata": {
  "kernelspec": {
   "display_name": "Python 3",
   "language": "python",
   "name": "python3"
  },
  "language_info": {
   "codemirror_mode": {
    "name": "ipython",
    "version": 3
   },
   "file_extension": ".py",
   "mimetype": "text/x-python",
   "name": "python",
   "nbconvert_exporter": "python",
   "pygments_lexer": "ipython3",
   "version": "3.12.2"
  }
 },
 "nbformat": 4,
 "nbformat_minor": 2
}
