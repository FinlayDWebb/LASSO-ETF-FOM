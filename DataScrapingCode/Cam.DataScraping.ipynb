{
 "cells": [
  {
   "cell_type": "code",
   "execution_count": 12,
   "metadata": {},
   "outputs": [
    {
     "name": "stdout",
     "output_type": "stream",
     "text": [
      "                                  Open         High          Low        Close  \\\n",
      "Date                                                                            \n",
      "2023-11-14 00:00:00+09:00  1244.890299  1247.801189  1235.672483  1245.860596   \n",
      "2023-11-15 00:00:00+09:00  1265.751635  1265.751635  1214.811075  1221.603149   \n",
      "2023-11-16 00:00:00+09:00  1221.603230  1247.801234  1221.603230  1226.454712   \n",
      "2023-11-17 00:00:00+09:00  1212.385413  1226.454712  1202.197301  1226.454712   \n",
      "2023-11-20 00:00:00+09:00  1224.514116  1246.345786  1224.514116  1238.098267   \n",
      "...                                ...          ...          ...          ...   \n",
      "2024-11-08 00:00:00+09:00  1784.000000  1784.500000  1760.000000  1768.500000   \n",
      "2024-11-11 00:00:00+09:00  1784.500000  1793.500000  1751.500000  1763.000000   \n",
      "2024-11-12 00:00:00+09:00  1799.500000  1814.500000  1791.500000  1791.500000   \n",
      "2024-11-13 00:00:00+09:00  1805.000000  1808.500000  1771.500000  1786.000000   \n",
      "2024-11-14 00:00:00+09:00  1789.500000  1818.000000  1785.500000  1798.000000   \n",
      "\n",
      "                              Volume  Dividends  Stock Splits  \n",
      "Date                                                           \n",
      "2023-11-14 00:00:00+09:00   70706100        0.0           0.0  \n",
      "2023-11-15 00:00:00+09:00  159360000        0.0           0.0  \n",
      "2023-11-16 00:00:00+09:00   84402000        0.0           0.0  \n",
      "2023-11-17 00:00:00+09:00   69386000        0.0           0.0  \n",
      "2023-11-20 00:00:00+09:00   74423400        0.0           0.0  \n",
      "...                              ...        ...           ...  \n",
      "2024-11-08 00:00:00+09:00   38968300        0.0           0.0  \n",
      "2024-11-11 00:00:00+09:00   44870100        0.0           0.0  \n",
      "2024-11-12 00:00:00+09:00   68350700        0.0           0.0  \n",
      "2024-11-13 00:00:00+09:00   51781400        0.0           0.0  \n",
      "2024-11-14 00:00:00+09:00   54966700        0.0           0.0  \n",
      "\n",
      "[246 rows x 7 columns]\n"
     ]
    }
   ],
   "source": [
    "#Library Importation\n",
    "\n",
    "from datetime import datetime\n",
    "import sys\n",
    "import pandas as pd\n",
    "import numpy as np\n",
    "import matplotlib.pyplot as plt\n",
    "from scipy.stats import norm\n",
    "from pandas_datareader import data as pdr\n",
    "import yfinance as yf\n",
    "\n",
    "yf.pdr_override()\n",
    "\n",
    "#EWJ - iShares MSCI Japan ETF - holdings\n",
    "\n",
    "toyota = \"7203.T\"\n",
    "mitsubishi = \"8306.T\"\n",
    "sony = \"6758.T\"\n",
    "hitachi = \"6501.T\"\n",
    "rholding = \"6098.T\"\n",
    "sumitomo = \"8316.T\"\n",
    "keyence = \"6861.T\"\n",
    "tmarine = \"8766.T\"\n",
    "telectron = \"8035.T\"\n",
    "shinetsu = \"4063.T\"\n",
    "\n",
    "\n",
    "ticker = yf.Ticker(mitsubishi)\n",
    "\n",
    "data = ticker.history(period=\"1y\")\n",
    "\n",
    "print(data)"
   ]
  }
 ],
 "metadata": {
  "kernelspec": {
   "display_name": "Python 3",
   "language": "python",
   "name": "python3"
  },
  "language_info": {
   "codemirror_mode": {
    "name": "ipython",
    "version": 3
   },
   "file_extension": ".py",
   "mimetype": "text/x-python",
   "name": "python",
   "nbconvert_exporter": "python",
   "pygments_lexer": "ipython3",
   "version": "3.12.2"
  }
 },
 "nbformat": 4,
 "nbformat_minor": 2
}
