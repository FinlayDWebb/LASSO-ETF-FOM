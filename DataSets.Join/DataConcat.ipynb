{
 "cells": [
  {
   "cell_type": "code",
   "execution_count": 1,
   "metadata": {},
   "outputs": [
    {
     "name": "stdout",
     "output_type": "stream",
     "text": [
      "Combined data saved to input.d.csv\n",
      "Engineered features saved to input.engineered.csv\n"
     ]
    }
   ],
   "source": [
    "import pandas as pd\n",
    "import os\n",
    "import glob\n",
    "\n",
    "def concat_csvs_by_date():\n",
    "    # Find all CSV files\n",
    "    csv_files = glob.glob('*_price_change.csv') + glob.glob('*_price_metrics.csv')\n",
    "    \n",
    "    # Read and store dataframes\n",
    "    dfs = [pd.read_csv(file) for file in csv_files]\n",
    "    \n",
    "    # Concat all dataframes\n",
    "    combined_df = pd.concat(dfs, axis=1)\n",
    "    \n",
    "    # Remove duplicate Date columns, keep first\n",
    "    combined_df = combined_df.loc[:,~combined_df.columns.duplicated()]\n",
    "    \n",
    "    # Save combined dataframe\n",
    "    combined_df.to_csv('input.d.csv', index=False)\n",
    "    print(\"Combined data saved to input.d.csv\")\n",
    "\n",
    "def create_time_lagged_features(input_file='input.d.csv'):\n",
    "    # Read the input file\n",
    "    df = pd.read_csv(input_file)\n",
    "    \n",
    "    # Convert Date to datetime\n",
    "    df['Date'] = pd.to_datetime(df['Date'])\n",
    "    \n",
    "    # Sort by Date\n",
    "    df = df.sort_values('Date')\n",
    "    \n",
    "    # Create time-lagged versions\n",
    "    time_lags = [10, 2, 1, 0]\n",
    "    \n",
    "    # Store dataframes\n",
    "    lagged_dfs = []\n",
    "    \n",
    "    for lag in time_lags:\n",
    "        # Create a copy of the dataframe\n",
    "        lagged_df = df.copy()\n",
    "        \n",
    "        # Shift the columns (except Date)\n",
    "        date_cols = df.columns[df.columns != 'Date']\n",
    "        lagged_df[date_cols] = lagged_df[date_cols].shift(lag)\n",
    "        \n",
    "        # Rename columns to indicate lag\n",
    "        lagged_cols = {col: f'{col}_lag_{lag}' for col in date_cols}\n",
    "        lagged_df = lagged_df.rename(columns=lagged_cols)\n",
    "        \n",
    "        lagged_dfs.append(lagged_df)\n",
    "    \n",
    "    # Concatenate all time-lagged dataframes\n",
    "    final_df = pd.concat(lagged_dfs, axis=1)\n",
    "    \n",
    "    # Remove duplicate Date columns, keep first\n",
    "    final_df = final_df.loc[:,~final_df.columns.duplicated()]\n",
    "    \n",
    "    # Save the final dataframe\n",
    "    final_df.to_csv('input.engineered.csv', index=False)\n",
    "    print(\"Engineered features saved to input.engineered.csv\")\n",
    "\n",
    "# Run both functions\n",
    "concat_csvs_by_date()\n",
    "create_time_lagged_features()"
   ]
  }
 ],
 "metadata": {
  "kernelspec": {
   "display_name": "base",
   "language": "python",
   "name": "python3"
  },
  "language_info": {
   "codemirror_mode": {
    "name": "ipython",
    "version": 3
   },
   "file_extension": ".py",
   "mimetype": "text/x-python",
   "name": "python",
   "nbconvert_exporter": "python",
   "pygments_lexer": "ipython3",
   "version": "3.11.7"
  }
 },
 "nbformat": 4,
 "nbformat_minor": 2
}
