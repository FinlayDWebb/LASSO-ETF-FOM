{
 "cells": [
  {
   "cell_type": "code",
   "execution_count": null,
   "metadata": {},
   "outputs": [],
   "source": [
    "#Library importation:\n",
    "import yfinance as yf\n",
    "import pandas as pd\n",
    "from datetime import datetime, timedelta\n",
    "from sklearn.linear_model import Lasso\n",
    "from sklearn.preprocessing import StandardScaler\n",
    "from sklearn.model_selection import train_test_split\n",
    "\n",
    "\n",
    "\n",
    "\n",
    "#data = pd.read_csv('compiled.csv')\n",
    "\n",
    "\"\"\"\n",
    "\n",
    "X = data.drop(['target_column'], axis=1)  # Replace with your target column name\n",
    "y = data['target_column']\n",
    "\n",
    "X_train, X_test, y_train, y_test = train_test_split(X, y, test_size=0.2, random_state=42)\n",
    "\n",
    "\"\"\"\n",
    "\n",
    "#Above we have read in our file, created our variable matrix X, and defined our predictors y, then categorised training and test.\n",
    "\n",
    "\"\"\"\n",
    "\n",
    "lasso = Lasso(alpha=0.1)  # Adjust alpha as needed\n",
    "lasso.fit(X_train, y_train)\n",
    "\n",
    "# Evaluate performance\n",
    "y_pred = lasso.predict(X_test)\n",
    "from sklearn.metrics import mean_squared_error\n",
    "print(\"MSE:\", mean_squared_error(y_test, y_pred))\n",
    "\n",
    "\"\"\"\n",
    "\n"
   ]
  }
 ],
 "metadata": {
  "kernelspec": {
   "display_name": "Python 3",
   "language": "python",
   "name": "python3"
  },
  "language_info": {
   "codemirror_mode": {
    "name": "ipython",
    "version": 3
   },
   "file_extension": ".py",
   "mimetype": "text/x-python",
   "name": "python",
   "nbconvert_exporter": "python",
   "pygments_lexer": "ipython3",
   "version": "3.12.2"
  }
 },
 "nbformat": 4,
 "nbformat_minor": 2
}
